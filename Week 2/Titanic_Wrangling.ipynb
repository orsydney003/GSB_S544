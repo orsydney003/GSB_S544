{
  "cells": [
    {
      "cell_type": "markdown",
      "metadata": {
        "id": "QWpPySbzYEIV"
      },
      "source": [
        "# Titanic Wrangling\n",
        "\n",
        "In this practice activity you'll continue to work with the titanic dataset in ways that flex what you've learned about both data wrangling and data visualization."
      ]
    },
    {
      "cell_type": "code",
      "execution_count": 1,
      "metadata": {
        "colab": {
          "base_uri": "https://localhost:8080/",
          "height": 206
        },
        "id": "Nr6w8bVCf_NM",
        "outputId": "aa90545c-e0b6-4e2d-bc93-94e3674c186e"
      },
      "outputs": [
        {
          "data": {
            "text/html": [
              "<div>\n",
              "<style scoped>\n",
              "    .dataframe tbody tr th:only-of-type {\n",
              "        vertical-align: middle;\n",
              "    }\n",
              "\n",
              "    .dataframe tbody tr th {\n",
              "        vertical-align: top;\n",
              "    }\n",
              "\n",
              "    .dataframe thead th {\n",
              "        text-align: right;\n",
              "    }\n",
              "</style>\n",
              "<table border=\"1\" class=\"dataframe\">\n",
              "  <thead>\n",
              "    <tr style=\"text-align: right;\">\n",
              "      <th></th>\n",
              "      <th>name</th>\n",
              "      <th>gender</th>\n",
              "      <th>age</th>\n",
              "      <th>class</th>\n",
              "      <th>embarked</th>\n",
              "      <th>country</th>\n",
              "      <th>ticketno</th>\n",
              "      <th>fare</th>\n",
              "      <th>survived</th>\n",
              "    </tr>\n",
              "  </thead>\n",
              "  <tbody>\n",
              "    <tr>\n",
              "      <th>0</th>\n",
              "      <td>Abbing, Mr. Anthony</td>\n",
              "      <td>male</td>\n",
              "      <td>42.0</td>\n",
              "      <td>3rd</td>\n",
              "      <td>S</td>\n",
              "      <td>United States</td>\n",
              "      <td>5547.0</td>\n",
              "      <td>7.11</td>\n",
              "      <td>0</td>\n",
              "    </tr>\n",
              "    <tr>\n",
              "      <th>1</th>\n",
              "      <td>Abbott, Mr. Eugene Joseph</td>\n",
              "      <td>male</td>\n",
              "      <td>13.0</td>\n",
              "      <td>3rd</td>\n",
              "      <td>S</td>\n",
              "      <td>United States</td>\n",
              "      <td>2673.0</td>\n",
              "      <td>20.05</td>\n",
              "      <td>0</td>\n",
              "    </tr>\n",
              "    <tr>\n",
              "      <th>2</th>\n",
              "      <td>Abbott, Mr. Rossmore Edward</td>\n",
              "      <td>male</td>\n",
              "      <td>16.0</td>\n",
              "      <td>3rd</td>\n",
              "      <td>S</td>\n",
              "      <td>United States</td>\n",
              "      <td>2673.0</td>\n",
              "      <td>20.05</td>\n",
              "      <td>0</td>\n",
              "    </tr>\n",
              "    <tr>\n",
              "      <th>3</th>\n",
              "      <td>Abbott, Mrs. Rhoda Mary 'Rosa'</td>\n",
              "      <td>female</td>\n",
              "      <td>39.0</td>\n",
              "      <td>3rd</td>\n",
              "      <td>S</td>\n",
              "      <td>England</td>\n",
              "      <td>2673.0</td>\n",
              "      <td>20.05</td>\n",
              "      <td>1</td>\n",
              "    </tr>\n",
              "    <tr>\n",
              "      <th>4</th>\n",
              "      <td>Abelseth, Miss. Karen Marie</td>\n",
              "      <td>female</td>\n",
              "      <td>16.0</td>\n",
              "      <td>3rd</td>\n",
              "      <td>S</td>\n",
              "      <td>Norway</td>\n",
              "      <td>348125.0</td>\n",
              "      <td>7.13</td>\n",
              "      <td>1</td>\n",
              "    </tr>\n",
              "  </tbody>\n",
              "</table>\n",
              "</div>"
            ],
            "text/plain": [
              "                             name  gender   age class embarked        country  \\\n",
              "0             Abbing, Mr. Anthony    male  42.0   3rd        S  United States   \n",
              "1       Abbott, Mr. Eugene Joseph    male  13.0   3rd        S  United States   \n",
              "2     Abbott, Mr. Rossmore Edward    male  16.0   3rd        S  United States   \n",
              "3  Abbott, Mrs. Rhoda Mary 'Rosa'  female  39.0   3rd        S        England   \n",
              "4     Abelseth, Miss. Karen Marie  female  16.0   3rd        S         Norway   \n",
              "\n",
              "   ticketno   fare  survived  \n",
              "0    5547.0   7.11         0  \n",
              "1    2673.0  20.05         0  \n",
              "2    2673.0  20.05         0  \n",
              "3    2673.0  20.05         1  \n",
              "4  348125.0   7.13         1  "
            ]
          },
          "execution_count": null,
          "metadata": {},
          "output_type": "execute_result"
        }
      ],
      "source": [
        "# Import the titanic dataset here\n",
        "\n",
        "import pandas as pd\n",
        "import numpy as np\n",
        "\n",
        "data_dir = \"https://dlsun.github.io/pods/data/\"\n",
        "df_titanic = pd.read_csv(data_dir + \"titanic.csv\")\n",
        "df_titanic.head()\n"
      ]
    },
    {
      "cell_type": "markdown",
      "metadata": {
        "id": "9UgZD6VFYa96"
      },
      "source": [
        "## 1. Filter the data to include passengers only. Calculate the joint distribution (cross-tab) between a passenger's class and where they embarked."
      ]
    },
    {
      "cell_type": "code",
      "execution_count": 2,
      "metadata": {
        "colab": {
          "base_uri": "https://localhost:8080/",
          "height": 458
        },
        "id": "S9IQJDgLuMCi",
        "outputId": "3f7b1432-65ae-4eff-efee-acb38627221a"
      },
      "outputs": [
        {
          "data": {
            "text/plain": [
              "0                  Abbing, Mr. Anthony\n",
              "1            Abbott, Mr. Eugene Joseph\n",
              "2          Abbott, Mr. Rossmore Edward\n",
              "3       Abbott, Mrs. Rhoda Mary 'Rosa'\n",
              "4          Abelseth, Miss. Karen Marie\n",
              "                     ...              \n",
              "2202                  Wynn, Mr. Walter\n",
              "2203               Yearsley, Mr. Harry\n",
              "2204          Young, Mr. Francis James\n",
              "2205               Zanetti, Sig. Minio\n",
              "2206                Zarracchi, Sig. L.\n",
              "Name: name, Length: 2207, dtype: object"
            ]
          },
          "execution_count": null,
          "metadata": {},
          "output_type": "execute_result"
        }
      ],
      "source": [
        "# code here\n",
        "\n",
        "df_titanic[\"name\"]"
      ]
    },
    {
      "cell_type": "code",
      "execution_count": 3,
      "metadata": {
        "colab": {
          "base_uri": "https://localhost:8080/",
          "height": 423
        },
        "id": "TBthOzDLgBif",
        "outputId": "67c9895e-2e44-4a42-99a7-7841a2bf9cd2"
      },
      "outputs": [
        {
          "data": {
            "text/html": [
              "<div>\n",
              "<style scoped>\n",
              "    .dataframe tbody tr th:only-of-type {\n",
              "        vertical-align: middle;\n",
              "    }\n",
              "\n",
              "    .dataframe tbody tr th {\n",
              "        vertical-align: top;\n",
              "    }\n",
              "\n",
              "    .dataframe thead th {\n",
              "        text-align: right;\n",
              "    }\n",
              "</style>\n",
              "<table border=\"1\" class=\"dataframe\">\n",
              "  <thead>\n",
              "    <tr style=\"text-align: right;\">\n",
              "      <th></th>\n",
              "      <th>name</th>\n",
              "      <th>gender</th>\n",
              "      <th>age</th>\n",
              "      <th>class</th>\n",
              "      <th>embarked</th>\n",
              "      <th>country</th>\n",
              "      <th>ticketno</th>\n",
              "      <th>fare</th>\n",
              "      <th>survived</th>\n",
              "    </tr>\n",
              "  </thead>\n",
              "  <tbody>\n",
              "    <tr>\n",
              "      <th>0</th>\n",
              "      <td>Abbing, Mr. Anthony</td>\n",
              "      <td>male</td>\n",
              "      <td>42.0</td>\n",
              "      <td>3rd</td>\n",
              "      <td>S</td>\n",
              "      <td>United States</td>\n",
              "      <td>5547.0</td>\n",
              "      <td>7.1100</td>\n",
              "      <td>0</td>\n",
              "    </tr>\n",
              "    <tr>\n",
              "      <th>1</th>\n",
              "      <td>Abbott, Mr. Eugene Joseph</td>\n",
              "      <td>male</td>\n",
              "      <td>13.0</td>\n",
              "      <td>3rd</td>\n",
              "      <td>S</td>\n",
              "      <td>United States</td>\n",
              "      <td>2673.0</td>\n",
              "      <td>20.0500</td>\n",
              "      <td>0</td>\n",
              "    </tr>\n",
              "    <tr>\n",
              "      <th>2</th>\n",
              "      <td>Abbott, Mr. Rossmore Edward</td>\n",
              "      <td>male</td>\n",
              "      <td>16.0</td>\n",
              "      <td>3rd</td>\n",
              "      <td>S</td>\n",
              "      <td>United States</td>\n",
              "      <td>2673.0</td>\n",
              "      <td>20.0500</td>\n",
              "      <td>0</td>\n",
              "    </tr>\n",
              "    <tr>\n",
              "      <th>3</th>\n",
              "      <td>Abbott, Mrs. Rhoda Mary 'Rosa'</td>\n",
              "      <td>female</td>\n",
              "      <td>39.0</td>\n",
              "      <td>3rd</td>\n",
              "      <td>S</td>\n",
              "      <td>England</td>\n",
              "      <td>2673.0</td>\n",
              "      <td>20.0500</td>\n",
              "      <td>1</td>\n",
              "    </tr>\n",
              "    <tr>\n",
              "      <th>4</th>\n",
              "      <td>Abelseth, Miss. Karen Marie</td>\n",
              "      <td>female</td>\n",
              "      <td>16.0</td>\n",
              "      <td>3rd</td>\n",
              "      <td>S</td>\n",
              "      <td>Norway</td>\n",
              "      <td>348125.0</td>\n",
              "      <td>7.1300</td>\n",
              "      <td>1</td>\n",
              "    </tr>\n",
              "    <tr>\n",
              "      <th>...</th>\n",
              "      <td>...</td>\n",
              "      <td>...</td>\n",
              "      <td>...</td>\n",
              "      <td>...</td>\n",
              "      <td>...</td>\n",
              "      <td>...</td>\n",
              "      <td>...</td>\n",
              "      <td>...</td>\n",
              "      <td>...</td>\n",
              "    </tr>\n",
              "    <tr>\n",
              "      <th>1314</th>\n",
              "      <td>Yvois, Miss. Henriette</td>\n",
              "      <td>female</td>\n",
              "      <td>24.0</td>\n",
              "      <td>2nd</td>\n",
              "      <td>S</td>\n",
              "      <td>France</td>\n",
              "      <td>248747.0</td>\n",
              "      <td>13.0000</td>\n",
              "      <td>0</td>\n",
              "    </tr>\n",
              "    <tr>\n",
              "      <th>1315</th>\n",
              "      <td>Zakarian, Mr. Mapriededer</td>\n",
              "      <td>male</td>\n",
              "      <td>22.0</td>\n",
              "      <td>3rd</td>\n",
              "      <td>C</td>\n",
              "      <td>Turkey</td>\n",
              "      <td>2656.0</td>\n",
              "      <td>7.0406</td>\n",
              "      <td>0</td>\n",
              "    </tr>\n",
              "    <tr>\n",
              "      <th>1316</th>\n",
              "      <td>Zakarian, Mr. Ortin</td>\n",
              "      <td>male</td>\n",
              "      <td>27.0</td>\n",
              "      <td>3rd</td>\n",
              "      <td>C</td>\n",
              "      <td>Turkey</td>\n",
              "      <td>2670.0</td>\n",
              "      <td>7.0406</td>\n",
              "      <td>0</td>\n",
              "    </tr>\n",
              "    <tr>\n",
              "      <th>1317</th>\n",
              "      <td>Zenni, Mr. Philip</td>\n",
              "      <td>male</td>\n",
              "      <td>25.0</td>\n",
              "      <td>3rd</td>\n",
              "      <td>C</td>\n",
              "      <td>Lebanon</td>\n",
              "      <td>2620.0</td>\n",
              "      <td>7.0406</td>\n",
              "      <td>1</td>\n",
              "    </tr>\n",
              "    <tr>\n",
              "      <th>1318</th>\n",
              "      <td>Zimmermann, Mr. Leo</td>\n",
              "      <td>male</td>\n",
              "      <td>29.0</td>\n",
              "      <td>3rd</td>\n",
              "      <td>S</td>\n",
              "      <td>Germany</td>\n",
              "      <td>315082.0</td>\n",
              "      <td>7.1706</td>\n",
              "      <td>0</td>\n",
              "    </tr>\n",
              "  </tbody>\n",
              "</table>\n",
              "<p>1317 rows × 9 columns</p>\n",
              "</div>"
            ],
            "text/plain": [
              "                                name  gender   age class embarked  \\\n",
              "0                Abbing, Mr. Anthony    male  42.0   3rd        S   \n",
              "1          Abbott, Mr. Eugene Joseph    male  13.0   3rd        S   \n",
              "2        Abbott, Mr. Rossmore Edward    male  16.0   3rd        S   \n",
              "3     Abbott, Mrs. Rhoda Mary 'Rosa'  female  39.0   3rd        S   \n",
              "4        Abelseth, Miss. Karen Marie  female  16.0   3rd        S   \n",
              "...                              ...     ...   ...   ...      ...   \n",
              "1314          Yvois, Miss. Henriette  female  24.0   2nd        S   \n",
              "1315       Zakarian, Mr. Mapriededer    male  22.0   3rd        C   \n",
              "1316             Zakarian, Mr. Ortin    male  27.0   3rd        C   \n",
              "1317               Zenni, Mr. Philip    male  25.0   3rd        C   \n",
              "1318             Zimmermann, Mr. Leo    male  29.0   3rd        S   \n",
              "\n",
              "            country  ticketno     fare  survived  \n",
              "0     United States    5547.0   7.1100         0  \n",
              "1     United States    2673.0  20.0500         0  \n",
              "2     United States    2673.0  20.0500         0  \n",
              "3           England    2673.0  20.0500         1  \n",
              "4            Norway  348125.0   7.1300         1  \n",
              "...             ...       ...      ...       ...  \n",
              "1314         France  248747.0  13.0000         0  \n",
              "1315         Turkey    2656.0   7.0406         0  \n",
              "1316         Turkey    2670.0   7.0406         0  \n",
              "1317        Lebanon    2620.0   7.0406         1  \n",
              "1318        Germany  315082.0   7.1706         0  \n",
              "\n",
              "[1317 rows x 9 columns]"
            ]
          },
          "execution_count": null,
          "metadata": {},
          "output_type": "execute_result"
        }
      ],
      "source": [
        "# Code here\n",
        "\n",
        "df_passengers = df_titanic.loc[(df_titanic[\"class\"] == \"1st\") | (df_titanic[\"class\"] == \"2nd\") | (df_titanic[\"class\"] == \"3rd\")]\n",
        "df_passengers"
      ]
    },
    {
      "cell_type": "code",
      "execution_count": 4,
      "metadata": {
        "colab": {
          "base_uri": "https://localhost:8080/",
          "height": 175
        },
        "id": "2gTBRDH6fLmZ",
        "outputId": "2f23501d-0167-4082-e5e3-9f9caa2aa610"
      },
      "outputs": [
        {
          "data": {
            "text/html": [
              "<div>\n",
              "<style scoped>\n",
              "    .dataframe tbody tr th:only-of-type {\n",
              "        vertical-align: middle;\n",
              "    }\n",
              "\n",
              "    .dataframe tbody tr th {\n",
              "        vertical-align: top;\n",
              "    }\n",
              "\n",
              "    .dataframe thead th {\n",
              "        text-align: right;\n",
              "    }\n",
              "</style>\n",
              "<table border=\"1\" class=\"dataframe\">\n",
              "  <thead>\n",
              "    <tr style=\"text-align: right;\">\n",
              "      <th>embarked</th>\n",
              "      <th>B</th>\n",
              "      <th>C</th>\n",
              "      <th>Q</th>\n",
              "      <th>S</th>\n",
              "    </tr>\n",
              "    <tr>\n",
              "      <th>class</th>\n",
              "      <th></th>\n",
              "      <th></th>\n",
              "      <th></th>\n",
              "      <th></th>\n",
              "    </tr>\n",
              "  </thead>\n",
              "  <tbody>\n",
              "    <tr>\n",
              "      <th>1st</th>\n",
              "      <td>3</td>\n",
              "      <td>143</td>\n",
              "      <td>3</td>\n",
              "      <td>175</td>\n",
              "    </tr>\n",
              "    <tr>\n",
              "      <th>2nd</th>\n",
              "      <td>6</td>\n",
              "      <td>26</td>\n",
              "      <td>7</td>\n",
              "      <td>245</td>\n",
              "    </tr>\n",
              "    <tr>\n",
              "      <th>3rd</th>\n",
              "      <td>0</td>\n",
              "      <td>102</td>\n",
              "      <td>113</td>\n",
              "      <td>494</td>\n",
              "    </tr>\n",
              "  </tbody>\n",
              "</table>\n",
              "</div>"
            ],
            "text/plain": [
              "embarked  B    C    Q    S\n",
              "class                     \n",
              "1st       3  143    3  175\n",
              "2nd       6   26    7  245\n",
              "3rd       0  102  113  494"
            ]
          },
          "execution_count": null,
          "metadata": {},
          "output_type": "execute_result"
        }
      ],
      "source": [
        "pd.crosstab(df_passengers[\"class\"], df_passengers[\"embarked\"])"
      ]
    },
    {
      "cell_type": "markdown",
      "metadata": {
        "id": "3CRaJLSyYm4d"
      },
      "source": [
        "## 2. Using the joint distribution that calculated above, calculate the following:\n",
        "\n",
        "* the conditional distribution of their class given where they embarked\n",
        "* the conditional distribution of where they embarked given their class\n",
        "\n",
        "Use the conditional distributions that you calculate to answer the following quesitons:\n",
        "\n",
        "* What proportion of 3rd class passengers embarked at Southampton?\n",
        "* What proportion of Southampton passengers were in 3rd class?"
      ]
    },
    {
      "cell_type": "code",
      "execution_count": 5,
      "metadata": {
        "colab": {
          "base_uri": "https://localhost:8080/",
          "height": 300
        },
        "id": "TfTGidLIv1k0",
        "outputId": "2ddea822-b433-4b86-a8c3-23f79109c051"
      },
      "outputs": [
        {
          "data": {
            "text/html": [
              "<div>\n",
              "<style scoped>\n",
              "    .dataframe tbody tr th:only-of-type {\n",
              "        vertical-align: middle;\n",
              "    }\n",
              "\n",
              "    .dataframe tbody tr th {\n",
              "        vertical-align: top;\n",
              "    }\n",
              "\n",
              "    .dataframe thead th {\n",
              "        text-align: right;\n",
              "    }\n",
              "</style>\n",
              "<table border=\"1\" class=\"dataframe\">\n",
              "  <thead>\n",
              "    <tr style=\"text-align: right;\">\n",
              "      <th>embarked</th>\n",
              "      <th>B</th>\n",
              "      <th>C</th>\n",
              "      <th>Q</th>\n",
              "      <th>S</th>\n",
              "    </tr>\n",
              "    <tr>\n",
              "      <th>class</th>\n",
              "      <th></th>\n",
              "      <th></th>\n",
              "      <th></th>\n",
              "      <th></th>\n",
              "    </tr>\n",
              "  </thead>\n",
              "  <tbody>\n",
              "    <tr>\n",
              "      <th>1st</th>\n",
              "      <td>0.015228</td>\n",
              "      <td>0.527675</td>\n",
              "      <td>0.024390</td>\n",
              "      <td>0.108292</td>\n",
              "    </tr>\n",
              "    <tr>\n",
              "      <th>2nd</th>\n",
              "      <td>0.030457</td>\n",
              "      <td>0.095941</td>\n",
              "      <td>0.056911</td>\n",
              "      <td>0.151609</td>\n",
              "    </tr>\n",
              "    <tr>\n",
              "      <th>3rd</th>\n",
              "      <td>0.000000</td>\n",
              "      <td>0.376384</td>\n",
              "      <td>0.918699</td>\n",
              "      <td>0.305693</td>\n",
              "    </tr>\n",
              "    <tr>\n",
              "      <th>deck crew</th>\n",
              "      <td>0.116751</td>\n",
              "      <td>0.000000</td>\n",
              "      <td>0.000000</td>\n",
              "      <td>0.026609</td>\n",
              "    </tr>\n",
              "    <tr>\n",
              "      <th>engineering crew</th>\n",
              "      <td>0.218274</td>\n",
              "      <td>0.000000</td>\n",
              "      <td>0.000000</td>\n",
              "      <td>0.173886</td>\n",
              "    </tr>\n",
              "    <tr>\n",
              "      <th>restaurant staff</th>\n",
              "      <td>0.000000</td>\n",
              "      <td>0.000000</td>\n",
              "      <td>0.000000</td>\n",
              "      <td>0.042698</td>\n",
              "    </tr>\n",
              "    <tr>\n",
              "      <th>victualling crew</th>\n",
              "      <td>0.619289</td>\n",
              "      <td>0.000000</td>\n",
              "      <td>0.000000</td>\n",
              "      <td>0.191213</td>\n",
              "    </tr>\n",
              "  </tbody>\n",
              "</table>\n",
              "</div>"
            ],
            "text/plain": [
              "embarked                 B         C         Q         S\n",
              "class                                                   \n",
              "1st               0.015228  0.527675  0.024390  0.108292\n",
              "2nd               0.030457  0.095941  0.056911  0.151609\n",
              "3rd               0.000000  0.376384  0.918699  0.305693\n",
              "deck crew         0.116751  0.000000  0.000000  0.026609\n",
              "engineering crew  0.218274  0.000000  0.000000  0.173886\n",
              "restaurant staff  0.000000  0.000000  0.000000  0.042698\n",
              "victualling crew  0.619289  0.000000  0.000000  0.191213"
            ]
          },
          "execution_count": null,
          "metadata": {},
          "output_type": "execute_result"
        }
      ],
      "source": [
        "# Code here\n",
        "\n",
        "# The conditional distribution of class given where they embarked\n",
        "conditional_class_given_embarked = pd.crosstab(df_titanic[\"class\"], df_titanic[\"embarked\"], normalize=\"columns\")\n",
        "conditional_class_given_embarked"
      ]
    },
    {
      "cell_type": "code",
      "execution_count": 6,
      "metadata": {
        "colab": {
          "base_uri": "https://localhost:8080/"
        },
        "id": "8s3IOHwxf2TR",
        "outputId": "6a767db0-c26c-45df-9f52-687a9d0359bb"
      },
      "outputs": [
        {
          "data": {
            "text/plain": [
              "np.float64(0.3056930693069307)"
            ]
          },
          "execution_count": null,
          "metadata": {},
          "output_type": "execute_result"
        }
      ],
      "source": [
        "# What proportion of Southampton passengers were in 3rd class?\n",
        "\n",
        "# Proportion of Southampton passengers who were in 3rd class\n",
        "proportion_southampton_3rd = conditional_class_given_embarked.loc[\"3rd\", \"S\"]\n",
        "proportion_southampton_3rd"
      ]
    },
    {
      "cell_type": "code",
      "execution_count": 7,
      "metadata": {
        "colab": {
          "base_uri": "https://localhost:8080/",
          "height": 300
        },
        "id": "96--u3p6fuhO",
        "outputId": "0fa8eb03-ee23-42dc-8111-7d962d0df1f8"
      },
      "outputs": [
        {
          "data": {
            "text/html": [
              "<div>\n",
              "<style scoped>\n",
              "    .dataframe tbody tr th:only-of-type {\n",
              "        vertical-align: middle;\n",
              "    }\n",
              "\n",
              "    .dataframe tbody tr th {\n",
              "        vertical-align: top;\n",
              "    }\n",
              "\n",
              "    .dataframe thead th {\n",
              "        text-align: right;\n",
              "    }\n",
              "</style>\n",
              "<table border=\"1\" class=\"dataframe\">\n",
              "  <thead>\n",
              "    <tr style=\"text-align: right;\">\n",
              "      <th>embarked</th>\n",
              "      <th>B</th>\n",
              "      <th>C</th>\n",
              "      <th>Q</th>\n",
              "      <th>S</th>\n",
              "    </tr>\n",
              "    <tr>\n",
              "      <th>class</th>\n",
              "      <th></th>\n",
              "      <th></th>\n",
              "      <th></th>\n",
              "      <th></th>\n",
              "    </tr>\n",
              "  </thead>\n",
              "  <tbody>\n",
              "    <tr>\n",
              "      <th>1st</th>\n",
              "      <td>0.009259</td>\n",
              "      <td>0.441358</td>\n",
              "      <td>0.009259</td>\n",
              "      <td>0.540123</td>\n",
              "    </tr>\n",
              "    <tr>\n",
              "      <th>2nd</th>\n",
              "      <td>0.021127</td>\n",
              "      <td>0.091549</td>\n",
              "      <td>0.024648</td>\n",
              "      <td>0.862676</td>\n",
              "    </tr>\n",
              "    <tr>\n",
              "      <th>3rd</th>\n",
              "      <td>0.000000</td>\n",
              "      <td>0.143865</td>\n",
              "      <td>0.159379</td>\n",
              "      <td>0.696756</td>\n",
              "    </tr>\n",
              "    <tr>\n",
              "      <th>deck crew</th>\n",
              "      <td>0.348485</td>\n",
              "      <td>0.000000</td>\n",
              "      <td>0.000000</td>\n",
              "      <td>0.651515</td>\n",
              "    </tr>\n",
              "    <tr>\n",
              "      <th>engineering crew</th>\n",
              "      <td>0.132716</td>\n",
              "      <td>0.000000</td>\n",
              "      <td>0.000000</td>\n",
              "      <td>0.867284</td>\n",
              "    </tr>\n",
              "    <tr>\n",
              "      <th>restaurant staff</th>\n",
              "      <td>0.000000</td>\n",
              "      <td>0.000000</td>\n",
              "      <td>0.000000</td>\n",
              "      <td>1.000000</td>\n",
              "    </tr>\n",
              "    <tr>\n",
              "      <th>victualling crew</th>\n",
              "      <td>0.283063</td>\n",
              "      <td>0.000000</td>\n",
              "      <td>0.000000</td>\n",
              "      <td>0.716937</td>\n",
              "    </tr>\n",
              "  </tbody>\n",
              "</table>\n",
              "</div>"
            ],
            "text/plain": [
              "embarked                 B         C         Q         S\n",
              "class                                                   \n",
              "1st               0.009259  0.441358  0.009259  0.540123\n",
              "2nd               0.021127  0.091549  0.024648  0.862676\n",
              "3rd               0.000000  0.143865  0.159379  0.696756\n",
              "deck crew         0.348485  0.000000  0.000000  0.651515\n",
              "engineering crew  0.132716  0.000000  0.000000  0.867284\n",
              "restaurant staff  0.000000  0.000000  0.000000  1.000000\n",
              "victualling crew  0.283063  0.000000  0.000000  0.716937"
            ]
          },
          "execution_count": null,
          "metadata": {},
          "output_type": "execute_result"
        }
      ],
      "source": [
        "conditional_embarked_given_class = pd.crosstab(df_titanic[\"class\"], df_titanic[\"embarked\"], normalize=\"index\")\n",
        "conditional_embarked_given_class"
      ]
    },
    {
      "cell_type": "code",
      "execution_count": 8,
      "metadata": {
        "colab": {
          "base_uri": "https://localhost:8080/"
        },
        "id": "krFGNx-Bf2E2",
        "outputId": "413e8e30-9e28-4984-9f31-d1f813fa54df"
      },
      "outputs": [
        {
          "data": {
            "text/plain": [
              "np.float64(0.6967559943582511)"
            ]
          },
          "execution_count": null,
          "metadata": {},
          "output_type": "execute_result"
        }
      ],
      "source": [
        "# what is the proportion of third class passengers who embarked at Southampton?\n",
        "\n",
        "# Proportion of 3rd class passengers who embarked at Southampton\n",
        "proportion_3rd_southampton = conditional_embarked_given_class.loc[\"3rd\", \"S\"]\n",
        "proportion_3rd_southampton"
      ]
    },
    {
      "cell_type": "markdown",
      "metadata": {
        "id": "pGUQeeh1ZRfz"
      },
      "source": [
        "## 3. Make a visualization showing the distribution of a passenger's class, given where they embarked.\n",
        "\n",
        "Discuss the pros and cons of using this visualization versus the distributions you calculated before, to answer the previous questions."
      ]
    },
    {
      "cell_type": "code",
      "execution_count": 9,
      "metadata": {
        "colab": {
          "base_uri": "https://localhost:8080/",
          "height": 497
        },
        "id": "PZ18WKJWA-xZ",
        "outputId": "7b44d081-7f5d-4e50-f37d-92a5e876939f"
      },
      "outputs": [
        {
          "data": {
            "image/png": "[encoded data removed]",
            "text/plain": [
              "<Figure size 640x480 with 1 Axes>"
            ]
          },
          "metadata": {},
          "output_type": "display_data"
        }
      ],
      "source": [
        "# Code here\n",
        "\n",
        "import plotnine as p9\n",
        "from plotnine import *\n",
        "import pandas as pd\n",
        "\n",
        "ggplot(df_passengers, aes(x=\"class\", fill=\"embarked\")) + geom_bar(position=\"dodge\")"
      ]
    },
    {
      "cell_type": "markdown",
      "metadata": {
        "id": "h6xh48Utm0Rd"
      },
      "source": [
        "I think this visualization is good at comparing the different classes of individuals because they are side-by-side. We're able to see that the majority of passengers embarked from Southampton. The crosstab plots above are better at showing the proportion of passengers and calculating probabilities."
      ]
    }
  ],
  "metadata": {
    "colab": {
      "provenance": []
    },
    "kernelspec": {
      "display_name": "Python 3",
      "name": "python3"
    },
    "language_info": {
      "name": "python"
    }
  },
  "nbformat": 4,
  "nbformat_minor": 0
}
